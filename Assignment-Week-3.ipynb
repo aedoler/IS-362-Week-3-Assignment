{
 "cells": [
  {
   "cell_type": "markdown",
   "metadata": {},
   "source": [
    "## IS 362 Week 3 Assignment\n",
    "### Miles Traveled per Day by Bike\n",
    "\n",
    "In the cell below we generate a series object containing random numbers representing the miles bicycled each day. While the numbers change each time it is run, they always add up to 1442 miles, which is the distance between New York and Key West."
   ]
  },
  {
   "cell_type": "code",
   "execution_count": 125,
   "metadata": {
    "collapsed": false
   },
   "outputs": [
    {
     "data": {
      "text/plain": [
       "Day 1       58\n",
       "Day 2       93\n",
       "Day 3      158\n",
       "Day 4      201\n",
       "Day 5      268\n",
       "Day 6      346\n",
       "Day 7      390\n",
       "Day 8      423\n",
       "Day 9      498\n",
       "Day 10     533\n",
       "Day 11     586\n",
       "Day 12     658\n",
       "Day 13     689\n",
       "Day 14     761\n",
       "Day 15     807\n",
       "Day 16     848\n",
       "Day 17     897\n",
       "Day 18     973\n",
       "Day 19    1047\n",
       "Day 20    1103\n",
       "Day 21    1180\n",
       "Day 22    1244\n",
       "Day 23    1305\n",
       "Day 24    1342\n",
       "Day 25    1401\n",
       "Day 26    1442\n",
       "dtype: int64"
      ]
     },
     "execution_count": 125,
     "metadata": {},
     "output_type": "execute_result"
    }
   ],
   "source": [
    "import random\n",
    "import pandas as pd\n",
    "\n",
    "def genMilesLog():\n",
    "    totalMiles = 1442\n",
    "    counter = 0\n",
    "    milesLeft = 1442\n",
    "    milesLog = pd.Series() # Instantiate pandas Series object\n",
    "    while milesLeft > 0:\n",
    "        distForDay = random.randrange(30,80)\n",
    "        if milesLeft - distForDay < 0:\n",
    "            distForDay = (0 - milesLeft) * -1\n",
    "        milesLeft -= distForDay\n",
    "        distForDay = pd.Series(distForDay) # In order to append to a Series, the appended item must also be a series\n",
    "        milesLog = milesLog.append(distForDay).reset_index(drop=True)\n",
    "        if len(milesLog) < 2:\n",
    "            continue\n",
    "        else:\n",
    "            counter += 1\n",
    "            milesLog[counter] = milesLog[counter] + milesLog[counter - 1]\n",
    "            \n",
    "    #Update index\n",
    "    indexCounter = 1\n",
    "    newIndex = []\n",
    "    for index in range(milesLog.size):\n",
    "        newIndex.append(\"Day \" + str(indexCounter))\n",
    "        indexCounter += 1\n",
    "    milesLog.index = newIndex\n",
    "    return milesLog\n",
    "\n",
    "genMilesLog()\n",
    "\n",
    "\n"
   ]
  },
  {
   "cell_type": "markdown",
   "metadata": {},
   "source": [
    "In this cell, we take the series object generated above and break down the days to show the miles traveled each day. Note that the series objects in each \"In\" cell contain different amounts since the number of miles traveled each day are generated randomly each time the function \"genMilesLog()\" is called."
   ]
  },
  {
   "cell_type": "code",
   "execution_count": 135,
   "metadata": {
    "collapsed": false
   },
   "outputs": [
    {
     "data": {
      "text/plain": [
       "Day 1     72\n",
       "Day 2     61\n",
       "Day 3     46\n",
       "Day 4     58\n",
       "Day 5     57\n",
       "Day 6     56\n",
       "Day 7     78\n",
       "Day 8     36\n",
       "Day 9     41\n",
       "Day 10    63\n",
       "Day 11    41\n",
       "Day 12    56\n",
       "Day 13    59\n",
       "Day 14    40\n",
       "Day 15    30\n",
       "Day 16    69\n",
       "Day 17    79\n",
       "Day 18    40\n",
       "Day 19    65\n",
       "Day 20    76\n",
       "Day 21    46\n",
       "Day 22    39\n",
       "Day 23    49\n",
       "Day 24    62\n",
       "Day 25    71\n",
       "Day 26    52\n",
       "dtype: int64"
      ]
     },
     "execution_count": 135,
     "metadata": {},
     "output_type": "execute_result"
    }
   ],
   "source": [
    "def getBreakDownByDay(logSeries):\n",
    "    counter2 = 0\n",
    "    milesPerDay = []\n",
    "    for day in logSeries: \n",
    "        day = day - logSeries[counter2 - 1]\n",
    "        milesPerDay.append(day)\n",
    "        counter2 += 1\n",
    "    milesPerDay[0] = logSeries[0]\n",
    "    \n",
    "    milesPerDay = pd.Series(milesPerDay)\n",
    "    indexCounter = 1\n",
    "    newIndex = []\n",
    "    for index in range(milesPerDay.size):\n",
    "        newIndex.append(\"Day \" + str(indexCounter))\n",
    "        indexCounter += 1\n",
    "    milesPerDay.index = newIndex\n",
    "    return milesPerDay\n",
    "\n",
    "logSeries = genMilesLog()\n",
    "getBreakDownByDay(logSeries)"
   ]
  }
 ],
 "metadata": {
  "kernelspec": {
   "display_name": "Python 3",
   "language": "python",
   "name": "python3"
  },
  "language_info": {
   "codemirror_mode": {
    "name": "ipython",
    "version": 3
   },
   "file_extension": ".py",
   "mimetype": "text/x-python",
   "name": "python",
   "nbconvert_exporter": "python",
   "pygments_lexer": "ipython3",
   "version": "3.5.2"
  }
 },
 "nbformat": 4,
 "nbformat_minor": 2
}
